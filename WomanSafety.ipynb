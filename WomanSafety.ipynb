{
  "nbformat": 4,
  "nbformat_minor": 0,
  "metadata": {
    "colab": {
      "provenance": [],
      "authorship_tag": "ABX9TyOAvpYdUMpVV2GgCMaYwozu",
      "include_colab_link": true
    },
    "kernelspec": {
      "name": "python3",
      "display_name": "Python 3"
    },
    "language_info": {
      "name": "python"
    }
  },
  "cells": [
    {
      "cell_type": "markdown",
      "metadata": {
        "id": "view-in-github",
        "colab_type": "text"
      },
      "source": [
        "<a href=\"https://colab.research.google.com/github/akshatjaiin/woman-safety-gem-/blob/main/WomanSafety.ipynb\" target=\"_parent\"><img src=\"https://colab.research.google.com/assets/colab-badge.svg\" alt=\"Open In Colab\"/></a>"
      ]
    },
    {
      "cell_type": "markdown",
      "source": [
        "# A mix of ais to detect the crime early and call the sos for help for womanSafety"
      ],
      "metadata": {
        "id": "3Zrg110j2bXG"
      }
    },
    {
      "cell_type": "markdown",
      "source": [
        "**Installing needed modules**"
      ],
      "metadata": {
        "id": "P5Bc_YYV3LfW"
      }
    },
    {
      "cell_type": "code",
      "source": [
        "!pip install opencv-python numpy"
      ],
      "metadata": {
        "colab": {
          "base_uri": "https://localhost:8080/"
        },
        "id": "E2Vy7cp8zAW8",
        "outputId": "0ec5e37f-c27e-48b3-add4-ec599ced13f5"
      },
      "execution_count": null,
      "outputs": [
        {
          "output_type": "stream",
          "name": "stdout",
          "text": [
            "Requirement already satisfied: opencv-python in /usr/local/lib/python3.10/dist-packages (4.10.0.84)\n",
            "Requirement already satisfied: numpy in /usr/local/lib/python3.10/dist-packages (1.26.4)\n"
          ]
        }
      ]
    },
    {
      "cell_type": "markdown",
      "source": [
        "**The below cell is for capturing img just for colab so we can directly use our camera over here**\n"
      ],
      "metadata": {
        "id": "HUfbU5-a2oXC"
      }
    },
    {
      "cell_type": "code",
      "source": [
        "from IPython.display import display, Javascript , clear_output ,Image;\n",
        "from google.colab.output import eval_js\n",
        "from base64 import b64decode\n",
        "import cv2\n",
        "import numpy as np\n",
        "\n",
        "def startVideo():\n",
        "  js = Javascript('''\n",
        "  async function startVideo() {\n",
        "      // Create video element\n",
        "      const div = document.createElement('div');\n",
        "      const video = document.createElement('video');\n",
        "      video.style.display = 'block';\n",
        "      div.appendChild(video);\n",
        "      document.body.appendChild(div);\n",
        "\n",
        "      // Get webcam video stream\n",
        "      const stream = await navigator.mediaDevices.getUserMedia({video: true});\n",
        "      video.srcObject = stream;\n",
        "      video.id = \"cameravideo\"\n",
        "      await video.play();\n",
        "      window.videoId = video.id;\n",
        "      // Resize output to fit video element\n",
        "      google.colab.output.setIframeHeight(document.documentElement.scrollHeight, true);\n",
        "      video.style.display=\"none\";\n",
        "      return video.id;\n",
        "    }\n",
        "    function getFrame () {\n",
        "          const video = document.getElementById(window.videoId);\n",
        "          const canvas = document.createElement('canvas');\n",
        "          canvas.width = video.videoWidth;\n",
        "          canvas.height = video.videoHeight;\n",
        "          const context = canvas.getContext('2d');\n",
        "          context.drawImage(video, 0, 0, canvas.width, canvas.height);\n",
        "          return canvas.toDataURL('image/jpeg', 0.8);\n",
        "        }\n",
        "    ''')\n",
        "  display(js);\n",
        "  eval_js('startVideo()');\n",
        "def takePicture(quality=0.8):\n",
        "  data = eval_js(f'getFrame({quality})');\n",
        "  binary = b64decode(data.split(',')[1]);\n",
        "  image_array = np.frombuffer(binary, dtype=np.uint8);\n",
        "  image = cv2.imdecode(image_array, cv2.IMREAD_COLOR);\n",
        "  return binary,image;"
      ],
      "metadata": {
        "id": "RpniJQDz6Q5-"
      },
      "execution_count": 59,
      "outputs": []
    },
    {
      "cell_type": "code",
      "source": [
        "import time\n",
        "video = startVideo();\n",
        "bin,img = takePicture();\n",
        "for i in range(60*20):\n",
        "  clear_output();\n",
        "  display(Image(bin))\n",
        "  time.sleep(0.016);"
      ],
      "metadata": {
        "colab": {
          "base_uri": "https://localhost:8080/",
          "height": 497
        },
        "id": "Hq7GorUnHDqa",
        "outputId": "f2d3fa81-f7c8-4ff7-ec87-cf3a7a600e43"
      },
      "execution_count": 60,
      "outputs": [
        {
          "output_type": "display_data",
          "data": {
            "text/plain": [
              "<IPython.core.display.Javascript object>"
            ],
            "application/javascript": [
              "\n",
              "  async function startVideo() {\n",
              "      // Create video element\n",
              "      const div = document.createElement('div');\n",
              "      const video = document.createElement('video');\n",
              "      video.style.display = 'block';\n",
              "      div.appendChild(video);\n",
              "      document.body.appendChild(div);\n",
              "\n",
              "      // Get webcam video stream\n",
              "      const stream = await navigator.mediaDevices.getUserMedia({video: true});\n",
              "      video.srcObject = stream;\n",
              "      video.id = \"cameravideo\"\n",
              "      await video.play();\n",
              "      window.videoId = video.id;\n",
              "      // Resize output to fit video element\n",
              "      google.colab.output.setIframeHeight(document.documentElement.scrollHeight, true);\n",
              "      video.style.display=\"none\";\n",
              "      return video.id;\n",
              "    }\n",
              "    function getFrame () {\n",
              "          const video = document.getElementById(window.videoId);\n",
              "          const canvas = document.createElement('canvas');\n",
              "          canvas.width = video.videoWidth;\n",
              "          canvas.height = video.videoHeight;\n",
              "          const context = canvas.getContext('2d');\n",
              "          context.drawImage(video, 0, 0, canvas.width, canvas.height);\n",
              "          return canvas.toDataURL('image/jpeg', 0.8);\n",
              "        }\n",
              "    "
            ]
          },
          "metadata": {}
        },
        {
          "output_type": "display_data",
          "data": {
            "image/jpeg": "[encoded data removed]",
            "text/plain": [
              "<IPython.core.display.Image object>"
            ]
          },
          "metadata": {}
        }
      ]
    },
    {
      "cell_type": "code",
      "execution_count": null,
      "metadata": {
        "id": "W-hwqyzwu-M1"
      },
      "outputs": [],
      "source": []
    },
    {
      "cell_type": "code",
      "source": [
        "def camera():\n",
        "  video = cv2.VideoCapture(0);\n",
        "  if(not video.isOpened): raise Exception(\"Sorry no video input found\");\n",
        "  return video;"
      ],
      "metadata": {
        "id": "_foaJgcly9yS"
      },
      "execution_count": null,
      "outputs": []
    },
    {
      "cell_type": "code",
      "source": [
        "video = camera();\n",
        "video.isOpened()"
      ],
      "metadata": {
        "id": "ex2GXswxzrLG"
      },
      "execution_count": null,
      "outputs": []
    },
    {
      "cell_type": "code",
      "source": [
        "while video.isOpened():\n",
        "  ret,frame = video.read();\n",
        "  if(not ret):\n",
        "    print(\"camera not working\");\n",
        "    continue;\n",
        "  if cv2.waitKey(25) & 0xFF == ord('q'):\n",
        "            break"
      ],
      "metadata": {
        "id": "QKZP6OglzsvI"
      },
      "execution_count": null,
      "outputs": []
    },
    {
      "cell_type": "code",
      "source": [],
      "metadata": {
        "id": "SaJku7Mc0CZU"
      },
      "execution_count": null,
      "outputs": []
    }
  ]
}